{
 "cells": [
  {
   "cell_type": "code",
   "execution_count": 1,
   "metadata": {},
   "outputs": [
    {
     "name": "stderr",
     "output_type": "stream",
     "text": [
      "Using TensorFlow backend.\n"
     ]
    }
   ],
   "source": [
    "#imported all the necessary Libraries\n",
    "import pandas as pd\n",
    "import numpy as np\n",
    "#import math\n",
    "import csv\n",
    "import os\n",
    "#import pathlib\n",
    "import tensorflow as tf\n",
    "from tensorflow import keras\n",
    "#from tensorflow.keras import layers\n",
    "from tensorflow.keras.layers import Dense, Flatten, Conv2D, MaxPool2D, MaxPooling2D\n",
    "from tensorflow.keras.models import Sequential\n",
    "from sklearn.model_selection import train_test_split\n",
    "from tqdm import tqdm\n",
    "from keras.preprocessing import image\n",
    "from keras.models import load_model\n",
    "from tensorflow.keras.layers import Dropout\n",
    "import seaborn as sea\n",
    "import matplotlib.pyplot as plot"
   ]
  },
  {
   "cell_type": "markdown",
   "metadata": {},
   "source": [
    "# Data Preparation"
   ]
  },
  {
   "cell_type": "code",
   "execution_count": 64,
   "metadata": {},
   "outputs": [],
   "source": [
    "#open the csv file and split the strings all the rows\n",
    "for i in range(1,7):\n",
    "    with open(\"E:\\\\Transfer_Learning\\\\Data\\\\combined.csv\") as infile:\n",
    "        read = csv.reader(infile) # Create a new reader\n",
    "        next(read) # Skip the first row\n",
    "        if i==1:\n",
    "            image_id = [row[0].split(\"_\")[1] for row in read]\n",
    "        if i==2:\n",
    "            gender = [row[0].split(\"_\")[2] for row in read]\n",
    "        if i==3:\n",
    "            glasses = [row[0].split(\"_\")[3] for row in read]\n",
    "        if i==4:\n",
    "            eye_state = [row[0].split(\"_\")[4] for row in read]\n",
    "        if i==5:\n",
    "            reflections = [row[0].split(\"_\")[5] for row in read]\n",
    "        if i==6:\n",
    "            image_quality = [row[0].split(\"_\")[6] for row in read]"
   ]
  },
  {
   "cell_type": "code",
   "execution_count": 65,
   "metadata": {},
   "outputs": [],
   "source": [
    "#append all the above lists to dataframe\n",
    "df = pd.DataFrame(list(zip(image_id, gender, glasses, eye_state, reflections, image_quality)), \n",
    "               columns =['image_id', 'gender', 'glasses', 'eye_state', 'reflections', 'image_quality'])"
   ]
  },
  {
   "cell_type": "code",
   "execution_count": 66,
   "metadata": {},
   "outputs": [],
   "source": [
    "#convert the dataframe to csv\n",
    "df.to_csv('E:\\\\Transfer_Learning\\\\Data\\\\list.csv.csv', mode='a', header=True)"
   ]
  },
  {
   "cell_type": "code",
   "execution_count": null,
   "metadata": {},
   "outputs": [],
   "source": [
    "#Reshaping the images\n",
    "def preProcessing1(df, colName):\n",
    "    image_1 = []\n",
    "    for i in tqdm(range(df.shape[0])):\n",
    "        img = image.load_img(df[colName][i:i+1].values[0], target_size=(24,24,3), color_mode=\"grayscale\")\n",
    "        img = image.img_to_array(img)\n",
    "        img = img/255\n",
    "\n",
    "        image_1.append(img)\n",
    "\n",
    "    X = np.array(image_1)\n",
    "    return X"
   ]
  },
  {
   "cell_type": "markdown",
   "metadata": {},
   "source": [
    "# EDA (Data Distribution)"
   ]
  },
  {
   "cell_type": "code",
   "execution_count": 103,
   "metadata": {},
   "outputs": [
    {
     "data": {
      "image/png": "[encoded data removed]",
      "text/plain": [
       "<Figure size 432x288 with 1 Axes>"
      ]
     },
     "metadata": {
      "needs_background": "light"
     },
     "output_type": "display_data"
    }
   ],
   "source": [
    "import seaborn as sns\n",
    "\n",
    "ax = sns.countplot(x=\"eye_state\",data=df)"
   ]
  },
  {
   "cell_type": "code",
   "execution_count": 112,
   "metadata": {},
   "outputs": [
    {
     "data": {
      "image/png": "[encoded data removed]",
      "text/plain": [
       "<Figure size 432x216 with 2 Axes>"
      ]
     },
     "metadata": {
      "needs_background": "light"
     },
     "output_type": "display_data"
    },
    {
     "data": {
      "image/png": "[encoded data removed]",
      "text/plain": [
       "<Figure size 432x216 with 2 Axes>"
      ]
     },
     "metadata": {
      "needs_background": "light"
     },
     "output_type": "display_data"
    }
   ],
   "source": [
    "a=sea.FacetGrid(df, col = \"glasses\").map(plot.hist, \"eye_state\")\n",
    "b=sea.FacetGrid(df, col = \"image_quality\").map(plot.hist, \"eye_state\")\n",
    "plot.show(a)\n",
    "plot.show(b)"
   ]
  },
  {
   "cell_type": "markdown",
   "metadata": {},
   "source": [
    "# Model Training"
   ]
  },
  {
   "cell_type": "code",
   "execution_count": 97,
   "metadata": {},
   "outputs": [
    {
     "name": "stderr",
     "output_type": "stream",
     "text": [
      "100%|██████████| 781/781 [00:04<00:00, 194.50it/s]\n"
     ]
    }
   ],
   "source": [
    "df = pd.read_csv(\"E:/Transfer_Learning/Data/Combined.csv\")\n",
    "os.chdir('E:/Transfer_Learning/Data/Images')\n",
    "X_ = preProcessing1(df, 'image_name')\n",
    "y = df[[\"Drowsy\", \"Not_Drowsy\"]]"
   ]
  },
  {
   "cell_type": "code",
   "execution_count": 99,
   "metadata": {},
   "outputs": [
    {
     "name": "stdout",
     "output_type": "stream",
     "text": [
      "Train on 624 samples, validate on 157 samples\n",
      "Epoch 1/10\n",
      "624/624 [==============================] - 1s 2ms/step - loss: 0.6944 - accuracy: 0.7436 - val_loss: 0.3981 - val_accuracy: 0.8280\n",
      "Epoch 2/10\n",
      "624/624 [==============================] - 1s 2ms/step - loss: 0.4103 - accuracy: 0.8077 - val_loss: 0.3221 - val_accuracy: 0.8344\n",
      "Epoch 3/10\n",
      "624/624 [==============================] - 1s 2ms/step - loss: 0.2910 - accuracy: 0.8702 - val_loss: 0.2587 - val_accuracy: 0.9236\n",
      "Epoch 4/10\n",
      "624/624 [==============================] - 1s 2ms/step - loss: 0.2282 - accuracy: 0.9038 - val_loss: 0.2135 - val_accuracy: 0.9172\n",
      "Epoch 5/10\n",
      "624/624 [==============================] - 1s 2ms/step - loss: 0.1967 - accuracy: 0.9263 - val_loss: 0.2172 - val_accuracy: 0.9045\n",
      "Epoch 6/10\n",
      "624/624 [==============================] - 1s 2ms/step - loss: 0.1669 - accuracy: 0.9407 - val_loss: 0.2092 - val_accuracy: 0.9172\n",
      "Epoch 7/10\n",
      "624/624 [==============================] - 1s 2ms/step - loss: 0.1495 - accuracy: 0.9375 - val_loss: 0.1903 - val_accuracy: 0.9236\n",
      "Epoch 8/10\n",
      "624/624 [==============================] - 1s 2ms/step - loss: 0.1324 - accuracy: 0.9487 - val_loss: 0.1946 - val_accuracy: 0.9236\n",
      "Epoch 9/10\n",
      "624/624 [==============================] - 1s 2ms/step - loss: 0.1113 - accuracy: 0.9503 - val_loss: 0.1890 - val_accuracy: 0.9363\n",
      "Epoch 10/10\n",
      "624/624 [==============================] - 1s 2ms/step - loss: 0.1181 - accuracy: 0.9519 - val_loss: 0.1898 - val_accuracy: 0.9299\n",
      "Modelling completed\n"
     ]
    }
   ],
   "source": [
    "tranfer_learning_pre_built = load_model(\"E:/Transfer_Learning/Data/Model/Drowsiness detection/models/cnnCat2.h5\")\n",
    "\n",
    "X_train, X_test, y_train, y_test = train_test_split(X_, y, test_size=0.20, random_state=12)\n",
    "tranfer_learning_pre_built.fit(X_train, y_train, batch_size=64, epochs=10, validation_data=(X_test, y_test) )\n",
    "\n",
    "trainAccuracy  = tranfer_learning_pre_built.history.history['accuracy'][-1]\n",
    "valAccuracy = tranfer_learning_pre_built.history.history['val_accuracy'][-1]\n",
    "\n",
    "tranfer_learning_pre_built.save(\"E:/Transfer_Learning/Data/Model/Drowsiness detection/models/Retrained_sleepy_non_sleepy_64_10.h5\")\n",
    "\n",
    "newList.append((trainAccuracy, valAccuracy))\n",
    "new_df = pd.DataFrame(newList, columns = [ 'TrainAcc', 'ValAcc'])\n",
    "new_df.to_csv(\"E:/Transfer_Learning/Data/Model/Drowsiness detection/models/Accuracies_sleep.csv\", header = False, mode = 'a')\n",
    "print('Modelling completed')"
   ]
  },
  {
   "cell_type": "markdown",
   "metadata": {},
   "source": [
    "# Model accuarcy and loss plots"
   ]
  },
  {
   "cell_type": "code",
   "execution_count": 113,
   "metadata": {},
   "outputs": [
    {
     "data": {
      "text/html": [
       "<div>\n",
       "<style scoped>\n",
       "    .dataframe tbody tr th:only-of-type {\n",
       "        vertical-align: middle;\n",
       "    }\n",
       "\n",
       "    .dataframe tbody tr th {\n",
       "        vertical-align: top;\n",
       "    }\n",
       "\n",
       "    .dataframe thead th {\n",
       "        text-align: right;\n",
       "    }\n",
       "</style>\n",
       "<table border=\"1\" class=\"dataframe\">\n",
       "  <thead>\n",
       "    <tr style=\"text-align: right;\">\n",
       "      <th></th>\n",
       "      <th>epochs</th>\n",
       "      <th>Pretrained_model_loss</th>\n",
       "      <th>Pretrained_model.h5_val_loss</th>\n",
       "      <th>Pretrained_model.h5_acc</th>\n",
       "      <th>Pretrained_model.h5_valAcc</th>\n",
       "    </tr>\n",
       "  </thead>\n",
       "  <tbody>\n",
       "    <tr>\n",
       "      <th>0</th>\n",
       "      <td>1</td>\n",
       "      <td>0.694419</td>\n",
       "      <td>0.398052</td>\n",
       "      <td>0.743590</td>\n",
       "      <td>0.828025</td>\n",
       "    </tr>\n",
       "    <tr>\n",
       "      <th>1</th>\n",
       "      <td>2</td>\n",
       "      <td>0.410321</td>\n",
       "      <td>0.322124</td>\n",
       "      <td>0.807692</td>\n",
       "      <td>0.834395</td>\n",
       "    </tr>\n",
       "    <tr>\n",
       "      <th>2</th>\n",
       "      <td>3</td>\n",
       "      <td>0.291010</td>\n",
       "      <td>0.258671</td>\n",
       "      <td>0.870192</td>\n",
       "      <td>0.923567</td>\n",
       "    </tr>\n",
       "    <tr>\n",
       "      <th>3</th>\n",
       "      <td>4</td>\n",
       "      <td>0.228199</td>\n",
       "      <td>0.213464</td>\n",
       "      <td>0.903846</td>\n",
       "      <td>0.917197</td>\n",
       "    </tr>\n",
       "    <tr>\n",
       "      <th>4</th>\n",
       "      <td>5</td>\n",
       "      <td>0.196677</td>\n",
       "      <td>0.217178</td>\n",
       "      <td>0.926282</td>\n",
       "      <td>0.904459</td>\n",
       "    </tr>\n",
       "  </tbody>\n",
       "</table>\n",
       "</div>"
      ],
      "text/plain": [
       "   epochs  Pretrained_model_loss  Pretrained_model.h5_val_loss  \\\n",
       "0       1               0.694419                      0.398052   \n",
       "1       2               0.410321                      0.322124   \n",
       "2       3               0.291010                      0.258671   \n",
       "3       4               0.228199                      0.213464   \n",
       "4       5               0.196677                      0.217178   \n",
       "\n",
       "   Pretrained_model.h5_acc  Pretrained_model.h5_valAcc  \n",
       "0                 0.743590                    0.828025  \n",
       "1                 0.807692                    0.834395  \n",
       "2                 0.870192                    0.923567  \n",
       "3                 0.903846                    0.917197  \n",
       "4                 0.926282                    0.904459  "
      ]
     },
     "execution_count": 113,
     "metadata": {},
     "output_type": "execute_result"
    }
   ],
   "source": [
    "acc_loss_df = pd.DataFrame([1, 2, 3, 4, 5, 6, 7, 8, 9, 10], columns=['epochs'])\n",
    "acc_loss_df['Pretrained_model_loss'] = tranfer_learning_pre_built.history.history['loss']\n",
    "acc_loss_df['Pretrained_model.h5_val_loss'] = tranfer_learning_pre_built.history.history['val_loss']\n",
    "acc_loss_df['Pretrained_model.h5_acc'] = tranfer_learning_pre_built.history.history['accuracy']\n",
    "acc_loss_df['Pretrained_model.h5_valAcc'] = tranfer_learning_pre_built.history.history['val_accuracy']\n",
    "acc_loss_df.head()"
   ]
  },
  {
   "cell_type": "code",
   "execution_count": 116,
   "metadata": {},
   "outputs": [
    {
     "data": {
      "text/html": [
       "<div>\n",
       "<style scoped>\n",
       "    .dataframe tbody tr th:only-of-type {\n",
       "        vertical-align: middle;\n",
       "    }\n",
       "\n",
       "    .dataframe tbody tr th {\n",
       "        vertical-align: top;\n",
       "    }\n",
       "\n",
       "    .dataframe thead th {\n",
       "        text-align: right;\n",
       "    }\n",
       "</style>\n",
       "<table border=\"1\" class=\"dataframe\">\n",
       "  <thead>\n",
       "    <tr style=\"text-align: right;\">\n",
       "      <th></th>\n",
       "      <th>Epoch</th>\n",
       "      <th>Transfer learning model</th>\n",
       "    </tr>\n",
       "  </thead>\n",
       "  <tbody>\n",
       "    <tr>\n",
       "      <th>0</th>\n",
       "      <td>1</td>\n",
       "      <td>0.828025</td>\n",
       "    </tr>\n",
       "    <tr>\n",
       "      <th>1</th>\n",
       "      <td>2</td>\n",
       "      <td>0.834395</td>\n",
       "    </tr>\n",
       "    <tr>\n",
       "      <th>2</th>\n",
       "      <td>3</td>\n",
       "      <td>0.923567</td>\n",
       "    </tr>\n",
       "    <tr>\n",
       "      <th>3</th>\n",
       "      <td>4</td>\n",
       "      <td>0.917197</td>\n",
       "    </tr>\n",
       "    <tr>\n",
       "      <th>4</th>\n",
       "      <td>5</td>\n",
       "      <td>0.904459</td>\n",
       "    </tr>\n",
       "  </tbody>\n",
       "</table>\n",
       "</div>"
      ],
      "text/plain": [
       "   Epoch  Transfer learning model\n",
       "0      1                 0.828025\n",
       "1      2                 0.834395\n",
       "2      3                 0.923567\n",
       "3      4                 0.917197\n",
       "4      5                 0.904459"
      ]
     },
     "execution_count": 116,
     "metadata": {},
     "output_type": "execute_result"
    }
   ],
   "source": [
    "acc_loss_df.columns\n",
    "loss_odf = acc_loss_df[['epochs', 'Pretrained_model_loss']]\n",
    "loss_odf.columns = ['Epoch', 'Transfer learning model']\n",
    "loss_vodf = acc_loss_df[['epochs', 'Pretrained_model.h5_val_loss']]\n",
    "loss_vodf.columns = ['Epoch', 'Transfer learning model']\n",
    "\n",
    "acc_odf = acc_loss_df[['epochs', 'Pretrained_model.h5_acc']]\n",
    "acc_odf.columns = ['Epoch', 'Transfer learning model']\n",
    "acc_vodf = acc_loss_df[['epochs', 'Pretrained_model.h5_valAcc']]\n",
    "acc_vodf.columns = ['Epoch', 'Transfer learning model']\n",
    "acc_vodf.head()"
   ]
  },
  {
   "cell_type": "code",
   "execution_count": 117,
   "metadata": {},
   "outputs": [
    {
     "data": {
      "text/plain": [
       "Text(0.5, 1.0, 'validation Accuracy Plot')"
      ]
     },
     "execution_count": 117,
     "metadata": {},
     "output_type": "execute_result"
    },
    {
     "data": {
      "image/png": "[encoded data removed]",
      "text/plain": [
       "<Figure size 432x288 with 1 Axes>"
      ]
     },
     "metadata": {
      "needs_background": "light"
     },
     "output_type": "display_data"
    }
   ],
   "source": [
    "sea.lineplot(x='Epoch', y='value', hue='variable',data=pd.melt(acc_vodf, ['Epoch'])).set_title('validation Accuracy Plot')"
   ]
  },
  {
   "cell_type": "code",
   "execution_count": 119,
   "metadata": {},
   "outputs": [
    {
     "data": {
      "text/plain": [
       "Text(0.5, 1.0, 'Validation Loss Plot')"
      ]
     },
     "execution_count": 119,
     "metadata": {},
     "output_type": "execute_result"
    },
    {
     "data": {
      "image/png": "[encoded data removed]",
      "text/plain": [
       "<Figure size 432x288 with 1 Axes>"
      ]
     },
     "metadata": {
      "needs_background": "light"
     },
     "output_type": "display_data"
    }
   ],
   "source": [
    "sea.lineplot(x='Epoch', y='value', hue='variable',data=pd.melt(loss_vodf, ['Epoch'])).set_title('Validation Loss Plot')"
   ]
  },
  {
   "cell_type": "code",
   "execution_count": null,
   "metadata": {},
   "outputs": [],
   "source": []
  }
 ],
 "metadata": {
  "kernelspec": {
   "display_name": "Python 3",
   "language": "python",
   "name": "python3"
  },
  "language_info": {
   "codemirror_mode": {
    "name": "ipython",
    "version": 3
   },
   "file_extension": ".py",
   "mimetype": "text/x-python",
   "name": "python",
   "nbconvert_exporter": "python",
   "pygments_lexer": "ipython3",
   "version": "3.7.6"
  }
 },
 "nbformat": 4,
 "nbformat_minor": 4
}
